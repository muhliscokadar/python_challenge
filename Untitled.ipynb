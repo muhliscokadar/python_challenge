{
 "cells": [
  {
   "cell_type": "code",
   "execution_count": 1,
   "metadata": {},
   "outputs": [
    {
     "ename": "SyntaxError",
     "evalue": "invalid syntax (<ipython-input-1-d7037f59fc4b>, line 57)",
     "output_type": "error",
     "traceback": [
      "\u001b[1;36m  File \u001b[1;32m\"<ipython-input-1-d7037f59fc4b>\"\u001b[1;36m, line \u001b[1;32m57\u001b[0m\n\u001b[1;33m    print('Total $'+ str(profit_loss_total))\u001b[0m\n\u001b[1;37m        ^\u001b[0m\n\u001b[1;31mSyntaxError\u001b[0m\u001b[1;31m:\u001b[0m invalid syntax\n"
     ]
    }
   ],
   "source": [
    "import os \n",
    "import csv\n",
    "# Path to collect data from the Resources folder\n",
    "\n",
    "file_path = os.path.join('raw_data', 'budget_data.csv')\n",
    "\n",
    "profit_loss = []\n",
    "months = []\n",
    "\n",
    "# opening to file     \n",
    "with open(file_path,newline=None) as csvfile:\n",
    "    \n",
    "    # reading to file \n",
    "    csv_reader = csv.reader(csvfile, delimiter = ',')\n",
    "    \n",
    "    # skip the first row\n",
    "    next(csvfile, None)\n",
    "\n",
    "    # loop for appending for lost/profit and months\n",
    "    for row in csv_reader:\n",
    "        profit_loss.append(int(row[1]))\n",
    "        months.append(row[0])\n",
    "\n",
    "# The total number of months included in the dataset\n",
    "months_lenght = len(months)\n",
    "\n",
    "# The total net amount of \"Profit/Losses\" over the entire period\n",
    "profit_loss_total = sum(profit_loss)\n",
    "\n",
    "# The average change in \"Profit/Losses\" between months over the entire period\n",
    "first_value = profit_loss[0]\n",
    "change_between = []\n",
    "\n",
    "for x in profit_loss:\n",
    "    difference = x - first_value\n",
    "    first_value = x\n",
    "\n",
    "# The greatest increase in profits (date and amount) over the entire period\n",
    "max_value = [a for a, b in enumerate(change_between) if b == (max(change_between))][0]\n",
    "min_value = [a for a, b in enumerate(change_between) if b == (min(change_between))][0]\n",
    "\n",
    "average_change_profit_lost = ((sum(change_between))/(len(change_between)-1))\n",
    "\n",
    "# The greatest decrease in losses (date and amount) over the entire period\n",
    "greatest_increase_month = months[max_value]\n",
    "greatest_increase_change = max(change_between)\n",
    "\n",
    "greatest_decrease_month = months[min_value]\n",
    "greatest_decrease_change = min(change_between)\n",
    "\n",
    "\n",
    "\n",
    "#\n",
    "print('Financial Analysis ')\n",
    "print('.......................')\n",
    "print('Total months: ' + str(months_lenght)\n",
    "print('Total $'+ str(profit_loss_total))\n",
    "print('Average change: $'+ str(average_change_profit_lost))\n",
    "print('Greatest Increase in Profits:' + greatest_increase_month + '$'+ str(greatest_increase_change))\n",
    "print('Greatest Decrease in Profits:' + greatest_decrease_change+ '$'+ str(greatest_decrease_change))"
   ]
  },
  {
   "cell_type": "code",
   "execution_count": null,
   "metadata": {},
   "outputs": [],
   "source": []
  }
 ],
 "metadata": {
  "kernelspec": {
   "display_name": "pythonData",
   "language": "python",
   "name": "pythondata"
  }
 },
 "nbformat": 4,
 "nbformat_minor": 2
}
